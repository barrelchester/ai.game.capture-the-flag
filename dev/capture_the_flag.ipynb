{
 "cells": [
  {
   "cell_type": "code",
   "execution_count": null,
   "id": "personal-singapore",
   "metadata": {},
   "outputs": [],
   "source": [
    "#Notebook for development of the game\n",
    "# Imports main modules - Player, MapGenerator, etc.\n",
    "# Implements pygame controls and GUI"
   ]
  },
  {
   "cell_type": "code",
   "execution_count": null,
   "id": "atomic-uganda",
   "metadata": {},
   "outputs": [],
   "source": [
    "import sys\n",
    "\n",
    "#where non-dev code is located\n",
    "sys.path.append('../app')"
   ]
  },
  {
   "cell_type": "code",
   "execution_count": 3,
   "id": "neutral-wellington",
   "metadata": {},
   "outputs": [
    {
     "name": "stdout",
     "output_type": "stream",
     "text": [
      "Collecting pygame\n",
      "  Downloading pygame-2.0.1-cp39-cp39-win_amd64.whl (5.2 MB)\n",
      "Installing collected packages: pygame\n",
      "Successfully installed pygame-2.0.1\n"
     ]
    },
    {
     "name": "stderr",
     "output_type": "stream",
     "text": [
      "WARNING: You are using pip version 20.2.3; however, version 21.0.1 is available.\n",
      "You should consider upgrading via the 'c:\\ml\\env\\scripts\\python.exe -m pip install --upgrade pip' command.\n"
     ]
    }
   ],
   "source": [
    "#install pygame\n",
    "!{sys.executable} -m pip install pygame"
   ]
  },
  {
   "cell_type": "code",
   "execution_count": 4,
   "id": "labeled-employment",
   "metadata": {},
   "outputs": [
    {
     "name": "stdout",
     "output_type": "stream",
     "text": [
      "pygame 2.0.1 (SDL 2.0.14, Python 3.9.1)\n",
      "Hello from the pygame community. https://www.pygame.org/contribute.html\n"
     ]
    }
   ],
   "source": [
    "#config stores constants and default settings\n",
    "from config import Config\n",
    "\n",
    "#helpful pygame wrapper\n",
    "import pygame_utils as pyg"
   ]
  },
  {
   "cell_type": "code",
   "execution_count": null,
   "id": "contrary-explosion",
   "metadata": {},
   "outputs": [],
   "source": [
    "# Game GUI consists of:\n",
    "# - menu through which the user chooses a few settings the starts the game\n",
    "# - game screen consisting of\n",
    "#   - the map and players\n",
    "#   - some type of status bar on the bottom or side allowing restart and showing info\n",
    "# - winner outcome screen which displays at game end for a while before going back to the menu"
   ]
  },
  {
   "cell_type": "code",
   "execution_count": null,
   "id": "thorough-inflation",
   "metadata": {},
   "outputs": [],
   "source": [
    "#untested code skeleton\n",
    "#class for menu GUI elements\n",
    "\n",
    "class Menu():\n",
    "    def __init__(self, config, map_generator):\n",
    "        self.config = config\n",
    "        \n",
    "        #holds a generated map, can replace generated map with .generate_map()\n",
    "        self.map_generator = map_generator\n",
    "        \n",
    "        #the dict of values populated from the menu\n",
    "        self.menu_values = {}\n",
    "        \n",
    "        self.menu_background = pyg.makeSprite(config.menu_background_image_path)\n",
    "        pyg.moveSprite(self.menu_background, 200,150) #TODO - location\n",
    "        pyg.showSprite(self.menu_background)\n",
    "            \n",
    "        self.text_label = pyg.makeLabel(\"Capture the Flag\", 22, 200, 50, \"white\", font=\"impact\")#TODO - location\n",
    "        pyg.showLabel(self.text_label)\n",
    "        \n",
    "        #elements of the menu\n",
    "        self.game_mode_select = pyg.makeSprite(config.menu_game_mode_select_image_path)\n",
    "        pyg.moveSprite(self.game_mode_select, 200,150)#TODO - location\n",
    "        pyg.showSprite(self.game_mode_select)\n",
    "        \n",
    "        self.team_size_select = pyg.makeSprite(config.menu_team_size_select_image_path)\n",
    "        pyg.moveSprite(self.team_size_select, 200,150)#TODO - location\n",
    "        pyg.showSprite(self.team_size_select)\n",
    "            \n",
    "        self.regenerate_map_button = pyg.makeSprite(config.menu_regenerate_map_button_image_path)\n",
    "        pyg.moveSprite(self.regenerate_map_button, 200,150)#TODO - location\n",
    "        pyg.showSprite(self.regenerate_map_button)\n",
    "            \n",
    "        self.start_game_button = pyg.makeSprite(config.menu_start_game_button_image_path)\n",
    "        pyg.moveSprite(self.start_game_button, 200,150)#TODO - location\n",
    "        pyg.showSprite(self.start_game_button)\n",
    "            \n",
    "        #display small version of generated map so user can choose to regenerate it\n",
    "        #TODO use the menu_image in map_generator to paste on the sprite\n",
    "        self.map_display = pyg.makeSprite(config.menu_map_display_image_path)\n",
    "        pyg.moveSprite(self.map_display, 200,150)#TODO - location\n",
    "        pyg.showSprite(self.map_display)\n",
    "        \n",
    "    \n",
    "    def get_values(self):\n",
    "        '''When Start Game button is pressed, returns dict of values populated from the menu.'''\n",
    "        game_mode = self.config.game_mode_play\n",
    "        team_size = self.config.team1_size\n",
    "        player_team = self.config.team1_name\n",
    "        \n",
    "        while True:\n",
    "            #display menu for choosing game mode, number of players, team, map\n",
    "            if pyg.spriteClicked(self.game_mode_select):\n",
    "                self.menu_values['game_mode'] = self.get_game_mode()\n",
    "                \n",
    "            elif pyg.spriteClicked(self.team_size_select):\n",
    "                self.menu_values['team_size'] = self.get_team_size()\n",
    "                \n",
    "            elif pyg.spriteClicked(self.player_team_select):\n",
    "                self.menu_values['player_team'] = self.get_player_team()\n",
    "                \n",
    "            elif pyg.spriteClicked(self.regenerate_map_button):\n",
    "                self.map_generator.generate_map()\n",
    "                self.update_map(self.map_generator.menu_image)\n",
    "                \n",
    "            elif pyg.spriteClicked(self.start_game_button):\n",
    "                #destroy the menu and return the values\n",
    "                pyg.hideLabel(self.text_label)\n",
    "                pyg.killSprite(self.game_mode_select)\n",
    "                pyg.killSprite(self.team_size_select)\n",
    "                pyg.killSprite(self.regenerate_map_button)\n",
    "                pyg.killSprite(self.start_game_button)\n",
    "                pyg.killSprite(self.map_display)\n",
    "                pyg.killSprite(self.menu_background)\n",
    "                return self.menu_values\n",
    "            \n",
    "            tick(config.menu_frame_rate)\n",
    "            \n",
    "                \n",
    "    def get_game_mode(self):\n",
    "        #TODO get from selection\n",
    "        return self.config.game_mode_play\n",
    "    \n",
    "    def get_team_size(self):\n",
    "        #TODO get from selection\n",
    "        return self.config.team1_size\n",
    "    \n",
    "    def get_player_team(self):\n",
    "        #TODO get from selection\n",
    "        return self.config.team1_name\n",
    "    \n",
    "    def update_map(self, im):\n",
    "        #TODO update map image sprite\n",
    "        pass"
   ]
  },
  {
   "cell_type": "code",
   "execution_count": null,
   "id": "completed-county",
   "metadata": {},
   "outputs": [],
   "source": [
    "#untested code skeleton\n",
    "# class for game status window next to map\n",
    "\n",
    "class GameStatusWindow():\n",
    "    def __init__(self):\n",
    "        pass\n",
    "    def display(self):\n",
    "        pass"
   ]
  },
  {
   "cell_type": "code",
   "execution_count": null,
   "id": "capital-grass",
   "metadata": {},
   "outputs": [],
   "source": [
    "#untested code skeleton\n",
    "#class for map GUI elements\n",
    "\n",
    "class GameMapWindow():\n",
    "    def __init__(self, game_status_window):\n",
    "        pass\n",
    "    def display(self):\n",
    "        pass"
   ]
  },
  {
   "cell_type": "code",
   "execution_count": null,
   "id": "arabic-cancer",
   "metadata": {},
   "outputs": [],
   "source": [
    "#untested code skeleton\n",
    "#top class for creating all GUI elements and running the game\n",
    "\n",
    "class Game():\n",
    "    def __init__(self, config):\n",
    "        self.config = config\n",
    "        \n",
    "        #instantiate pygame objects using game vars from config\n",
    "        pyg.screenSize(config.screen_width, config.screen_height)\n",
    "        \n",
    "        pyg.setIcon(config.game_icon_image_path)\n",
    "        pyg.setWindowTitle(config.game_name)\n",
    "        pyg.setBackgroundImage(config.game_background_image_path)\n",
    "        \n",
    "        # menu\n",
    "        \n",
    "        #map may be regenerated in menu, so access map_generator through menu object\n",
    "        map_generator = MapGenerator()\n",
    "        map_generator.generate_map()\n",
    "        \n",
    "        self.menu = Menu(config, map_generator)\n",
    "        \n",
    "        \n",
    "    def play(self):\n",
    "        #main game loop\n",
    "        while True:\n",
    "            #wait for values from the menu - currently includes game_mode, team_size, player_team\n",
    "            menu_values = self.menu.get_values()\n",
    "            game_mode = menu_values['game_mode']\n",
    "            team_size = menu_values['team_size']\n",
    "            player_team = menu_values['player_team']\n",
    "            \n",
    "            #the generated map is accessible through the map generator in menu\n",
    "            #update background with generated map\n",
    "            #self.menu.map_generator\n",
    "            \n",
    "            #create player and agents\n",
    "            \n",
    "            #update sprites according to their actions\n",
    "            \n",
    "            #check for win\n",
    "\n",
    "            pyg.tick(config.time_delay)\n",
    "            \n",
    "        pyg.endWait()"
   ]
  },
  {
   "cell_type": "code",
   "execution_count": null,
   "id": "confirmed-europe",
   "metadata": {},
   "outputs": [],
   "source": [
    "config = Config()\n",
    "game = Game(config)\n",
    "game.play()"
   ]
  }
 ],
 "metadata": {
  "kernelspec": {
   "display_name": "Python 3",
   "language": "python",
   "name": "python3"
  },
  "language_info": {
   "codemirror_mode": {
    "name": "ipython",
    "version": 3
   },
   "file_extension": ".py",
   "mimetype": "text/x-python",
   "name": "python",
   "nbconvert_exporter": "python",
   "pygments_lexer": "ipython3",
   "version": "3.9.1"
  }
 },
 "nbformat": 4,
 "nbformat_minor": 5
}
