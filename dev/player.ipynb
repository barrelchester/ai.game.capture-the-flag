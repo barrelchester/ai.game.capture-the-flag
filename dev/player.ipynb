{
 "cells": [
  {
   "cell_type": "code",
   "execution_count": null,
   "id": "responsible-burlington",
   "metadata": {},
   "outputs": [],
   "source": [
    "#notebook for development of Player module\n",
    "# LivePlayer will just be input movement controls from keyboard or controller\n",
    "# AgentPlayer will be AI"
   ]
  },
  {
   "cell_type": "code",
   "execution_count": null,
   "id": "brown-willow",
   "metadata": {},
   "outputs": [],
   "source": [
    "from config import Config\n"
   ]
  },
  {
   "cell_type": "code",
   "execution_count": null,
   "id": "saved-catholic",
   "metadata": {},
   "outputs": [],
   "source": []
  },
  {
   "cell_type": "code",
   "execution_count": null,
   "id": "whole-incidence",
   "metadata": {},
   "outputs": [],
   "source": [
    "class Player():\n",
    "    def __init__(self):\n",
    "        pass\n",
    "    \n",
    "    def get_action(self):\n",
    "        pass"
   ]
  },
  {
   "cell_type": "code",
   "execution_count": null,
   "id": "successful-eagle",
   "metadata": {},
   "outputs": [],
   "source": [
    "class HumanPlayer(Player):\n",
    "    def __init__(self):\n",
    "        super().__init__()\n",
    "    \n",
    "    def get_action(self):\n",
    "        pass"
   ]
  },
  {
   "cell_type": "code",
   "execution_count": null,
   "id": "million-assumption",
   "metadata": {},
   "outputs": [],
   "source": []
  },
  {
   "cell_type": "code",
   "execution_count": null,
   "id": "rubber-musical",
   "metadata": {},
   "outputs": [],
   "source": [
    "class AgentPlayer(Player):\n",
    "    def __init__(self):\n",
    "        super().__init__()\n",
    "    \n",
    "    def get_action(self):\n",
    "        pass"
   ]
  },
  {
   "cell_type": "code",
   "execution_count": null,
   "id": "annual-prague",
   "metadata": {},
   "outputs": [],
   "source": []
  }
 ],
 "metadata": {
  "kernelspec": {
   "display_name": "Python 3",
   "language": "python",
   "name": "python3"
  },
  "language_info": {
   "codemirror_mode": {
    "name": "ipython",
    "version": 3
   },
   "file_extension": ".py",
   "mimetype": "text/x-python",
   "name": "python",
   "nbconvert_exporter": "python",
   "pygments_lexer": "ipython3",
   "version": "3.9.1"
  }
 },
 "nbformat": 4,
 "nbformat_minor": 5
}
